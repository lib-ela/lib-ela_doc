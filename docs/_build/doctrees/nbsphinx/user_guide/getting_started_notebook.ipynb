{
 "cells": [
  {
   "cell_type": "markdown",
   "id": "2b27e452",
   "metadata": {},
   "source": [
    "# lib-ela: A Notebook Walk-through\n",
    "\n",
    "Welcome to **lib-ela**! This notebook will guide you through the basics of symbolic solid mechanics modeling with Python.\n",
    "You'll learn to install the package, explore available material models, run common deformation protocols, visualise results, and export data.\n"
   ]
  },
  {
   "cell_type": "markdown",
   "id": "ef4be623",
   "metadata": {},
   "source": [
    "## 1. Installation\n",
    "\n",
    "If you haven't installed *lib-ela* and *matplotlib* yet, run:\n",
    "```bash\n",
    "!pip install lib-ela matplotlib\n",
    "```\n",
    "*(In Jupyter, remove the backticks and execute the line in a code cell.)*"
   ]
  },
  {
   "cell_type": "code",
   "execution_count": null,
   "id": "8be0fd7d",
   "metadata": {},
   "outputs": [],
   "source": [
    "#!pip install lib-ela matplotlib"
   ]
  },
  {
   "cell_type": "markdown",
   "id": "3cce4eff",
   "metadata": {},
   "source": [
    "## 2. Importing and Exploring Material Models\n",
    "\n",
    "We'll import **lib-ela** and inspect the *NeoHookean* material. Additional Hyperelastic models (e.g. *MooneyRivlin*, *Yeoh*) follow the same methods."
   ]
  },
  {
   "cell_type": "code",
   "execution_count": null,
   "id": "79c0a9a1",
   "metadata": {},
   "outputs": [],
   "source": [
    "import numpy as np\n",
    "import matplotlib.pyplot as plt\n",
    "from libela.hyperelastic import NeoHookean\n",
    "# from libela.hyperelastic import MooneyRivlin, Yeoh, Polynomial\n",
    "\n",
    "help(NeoHookean)  # show full docstring\n"
   ]
  },
  {
   "cell_type": "markdown",
   "id": "ffa1b422",
   "metadata": {},
   "source": [
    "## 3. First Example: Uniaxial Stretch\n",
    "\n",
    "Create a *Neo-Hookean* material and compute the Cauchy stress under uniaxial loading."
   ]
  },
  {
   "cell_type": "code",
   "execution_count": null,
   "id": "4ed2774c",
   "metadata": {},
   "outputs": [],
   "source": [
    "MU, K = 700.0, 2500.0  # shear & bulk moduli [kPa]\n",
    "neo = NeoHookean(mu=MU, k=K)\n",
    "\n",
    "lam = np.linspace(0.6, 1.4, 50)\n",
    "sigma = neo.stress(lam, params=[MU, K],\n",
    "                   protocol='uniaxial', stress_type='cauchy')\n",
    "\n",
    "plt.figure(figsize=(6,4))\n",
    "plt.plot(lam, sigma, label='Neo-Hookean')\n",
    "plt.xlabel('Stretch λ')\n",
    "plt.ylabel('Cauchy stress [kPa]')\n",
    "plt.title('Uniaxial stress–stretch curve')\n",
    "plt.grid(True)\n",
    "plt.legend()\n",
    "plt.show()\n"
   ]
  },
  {
   "cell_type": "markdown",
   "id": "617c7c05",
   "metadata": {},
   "source": [
    "## 4. Trying Other Protocols\n",
    "\n",
    "Compute stresses for *simple shear* and *planar biaxial*."
   ]
  },
  {
   "cell_type": "code",
   "execution_count": null,
   "id": "5d2ee0fe",
   "metadata": {},
   "outputs": [],
   "source": [
    "# Simple shear\n",
    "gamma = np.linspace(0, 1.0, 50)\n",
    "tau_shear = neo.stress(gamma, params=[MU, K],\n",
    "                       protocol='shear', stress_type='kirchhoff')\n",
    "\n",
    "plt.figure(figsize=(6,4))\n",
    "plt.plot(gamma, tau_shear, label='τ12 (Kirchhoff)')\n",
    "plt.xlabel('Engineering shear γ')\n",
    "plt.ylabel('Kirchhoff stress [kPa]')\n",
    "plt.title('Simple-shear response')\n",
    "plt.grid(True); plt.legend(); plt.show()\n"
   ]
  },
  {
   "cell_type": "code",
   "execution_count": null,
   "id": "f262904e",
   "metadata": {},
   "outputs": [],
   "source": [
    "# Planar biaxial: λ1 = λ2 sweep\n",
    "lam_b = np.linspace(0.9, 1.3, 40)\n",
    "grid = np.stack([lam_b, lam_b])  # shape (2, N)\n",
    "\n",
    "sigma_b = neo.stress(grid, params=[MU, K],\n",
    "                     protocol='biaxial', stress_type='cauchy')[0]\n",
    "\n",
    "plt.figure(figsize=(6,4))\n",
    "plt.plot(lam_b, sigma_b, label='σ11 (biaxial)')\n",
    "plt.xlabel('Stretch λ')\n",
    "plt.ylabel('Cauchy stress [kPa]')\n",
    "plt.title('Planar-biaxial response')\n",
    "plt.grid(True); plt.legend(); plt.show()\n"
   ]
  },
  {
   "cell_type": "markdown",
   "id": "cf54dd8f",
   "metadata": {},
   "source": [
    "## 5. Comparing Materials *(optional)*\n",
    "\n",
    "When more materials are available, uncomment the following to compare their responses."
   ]
  },
  {
   "cell_type": "code",
   "execution_count": null,
   "id": "3443c8d0",
   "metadata": {},
   "outputs": [],
   "source": [
    "# from libela.hyperelastic import MooneyRivlin\n",
    "# mr = MooneyRivlin(c1=MU/2, c2=MU/2, k=K)\n",
    "# sigma_mr = mr.stress(lam, params=[MU/2, MU/2, K],\n",
    "#                      protocol='uniaxial', stress_type='cauchy')\n",
    "#\n",
    "# plt.figure(figsize=(6,4))\n",
    "# plt.plot(lam, sigma, label='Neo-Hookean')\n",
    "# plt.plot(lam, sigma_mr, label='Mooney–Rivlin')\n",
    "# plt.xlabel('λ'); plt.ylabel('σ11 [kPa]')\n",
    "# plt.title('Material comparison – uniaxial')\n",
    "# plt.grid(True); plt.legend(); plt.show()\n"
   ]
  },
  {
   "cell_type": "markdown",
   "id": "962b178f",
   "metadata": {},
   "source": [
    "## 6. Saving & Exporting Results\n",
    "\n",
    "Save curves and raw data for reports or papers."
   ]
  },
  {
   "cell_type": "code",
   "execution_count": null,
   "id": "f504fe22",
   "metadata": {},
   "outputs": [],
   "source": [
    "np.savetxt('uniaxial_stress_curve.csv',\n",
    "           np.column_stack((lam, sigma)),\n",
    "           delimiter=',', header='lambda,sigma11_kPa', comments='')\n",
    "plt.figure(figsize=(6,4))\n",
    "plt.plot(lam, sigma)\n",
    "plt.xlabel('λ'); plt.ylabel('σ11 [kPa]')\n",
    "plt.title('Uniaxial σ11'); plt.grid(True)\n",
    "plt.savefig('uniaxial_stress_curve.png', dpi=300)\n",
    "plt.close()\n",
    "print('Saved uniaxial_stress_curve.csv & .png')\n"
   ]
  },
  {
   "cell_type": "markdown",
   "id": "1416bef1",
   "metadata": {},
   "source": [
    "## 7. Bonus: Interactive Slider *(Jupyter only)*\n",
    "\n",
    "Use an *ipywidgets* slider to see how changing the shear modulus μ shifts the curve."
   ]
  },
  {
   "cell_type": "code",
   "execution_count": null,
   "id": "16c789ce",
   "metadata": {},
   "outputs": [],
   "source": [
    "# %matplotlib widget\n",
    "# from ipywidgets import FloatSlider\n",
    "# from IPython.display import display\n",
    "#\n",
    "# slider = FloatSlider(value=MU, min=100, max=2000, step=100,\n",
    "#                      description='μ [kPa]', continuous_update=False)\n",
    "# fig, ax = plt.subplots(figsize=(6,4))\n",
    "#\n",
    "# def update(mu_val):\n",
    "#     ax.clear()\n",
    "#     neo_tmp = NeoHookean(mu=mu_val, k=K)\n",
    "#     sigma_tmp = neo_tmp.stress(lam, params=[mu_val, K],\n",
    "#                                protocol='uniaxial', stress_type='cauchy')\n",
    "#     ax.plot(lam, sigma_tmp)\n",
    "#     ax.set_xlabel('λ'); ax.set_ylabel('σ11 [kPa]')\n",
    "#     ax.set_title(f'Neo-Hookean, μ = {mu_val:.0f} kPa'); ax.grid(True)\n",
    "#\n",
    "# slider.observe(lambda ch: update(ch['new']), names='value')\n",
    "# display(slider); update(MU)\n"
   ]
  },
  {
   "cell_type": "markdown",
   "id": "c3bc6a1f",
   "metadata": {},
   "source": [
    "## 8. Next Steps\n",
    "\n",
    "- Explore `libela.hyperelastic.operations` for deformation-gradient details.\n",
    "- Fit your own experimental data (module `libela.fitting`, coming soon).\n",
    "- Dive deeper with the *Theory* and *Tutorials* sections on the documentation site.\n"
   ]
  }
 ],
 "metadata": {
  "kernelspec": {
   "display_name": "Python 3",
   "language": "python",
   "name": "python3"
  },
  "language_info": {
   "name": "python",
   "version": "3.10"
  }
 },
 "nbformat": 4,
 "nbformat_minor": 5
}
